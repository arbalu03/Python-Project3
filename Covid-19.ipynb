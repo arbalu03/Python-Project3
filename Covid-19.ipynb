{
 "cells": [
  {
   "cell_type": "markdown",
   "id": "b0b93796",
   "metadata": {},
   "source": [
    "#                                                     COVID 19 - Data Analysis"
   ]
  },
  {
   "cell_type": "markdown",
   "id": "15852bec",
   "metadata": {},
   "source": [
    "## Table of Contents¶\n",
    "\n",
    "### * Introduction\n",
    "### * Data set accessing\n",
    "### * Data Cleaning\n",
    "### * Data Visualisations\n",
    "### * Conclusion"
   ]
  },
  {
   "cell_type": "markdown",
   "id": "d5d49cc1",
   "metadata": {},
   "source": [
    "## **Introduction"
   ]
  },
  {
   "cell_type": "markdown",
   "id": "054d63fe",
   "metadata": {},
   "source": [
    "### In this session, I will use various methods of exploratory data analysis to examine the characteristics of the \"COVID 19\" dataset.\n",
    "\n",
    "### The data contains 67 variables used to explore the effect of various factors on Covid-19. \n",
    "### Some of the variables are:\n",
    "#####   'continent', 'location', 'date', 'total_cases', 'new_cases','new_cases_smoothed', 'total_deaths', 'new_deaths','new_deaths_smoothed', 'total_cases_per_million','new_cases_per_million', 'new_cases_smoothed_per_million','total_deaths_per_million', 'new_deaths_per_million','new_deaths_smoothed_per_million', 'reproduction_rate', 'icu_patients','icu_patients_per_million', 'hosp_patients',\n",
    "       \n",
    "       \n",
    "       \n",
    "       \n",
    "       "
   ]
  },
  {
   "cell_type": "code",
   "execution_count": 1,
   "id": "d3ad3604",
   "metadata": {},
   "outputs": [],
   "source": [
    "import pandas as pd\n",
    "import numpy as np\n",
    "import matplotlib.pyplot as plt\n",
    "import seaborn as sns"
   ]
  },
  {
   "cell_type": "markdown",
   "id": "9d32bec2",
   "metadata": {},
   "source": [
    "## **Data set accessing"
   ]
  },
  {
   "cell_type": "code",
   "execution_count": 2,
   "id": "fac96ec1",
   "metadata": {},
   "outputs": [],
   "source": [
    "df = pd.read_csv('Covid19.csv')"
   ]
  },
  {
   "cell_type": "code",
   "execution_count": 3,
   "id": "41f099f6",
   "metadata": {},
   "outputs": [
    {
     "data": {
      "text/html": [
       "<div>\n",
       "<style scoped>\n",
       "    .dataframe tbody tr th:only-of-type {\n",
       "        vertical-align: middle;\n",
       "    }\n",
       "\n",
       "    .dataframe tbody tr th {\n",
       "        vertical-align: top;\n",
       "    }\n",
       "\n",
       "    .dataframe thead th {\n",
       "        text-align: right;\n",
       "    }\n",
       "</style>\n",
       "<table border=\"1\" class=\"dataframe\">\n",
       "  <thead>\n",
       "    <tr style=\"text-align: right;\">\n",
       "      <th></th>\n",
       "      <th>iso_code</th>\n",
       "      <th>continent</th>\n",
       "      <th>location</th>\n",
       "      <th>date</th>\n",
       "      <th>total_cases</th>\n",
       "      <th>new_cases</th>\n",
       "      <th>new_cases_smoothed</th>\n",
       "      <th>total_deaths</th>\n",
       "      <th>new_deaths</th>\n",
       "      <th>new_deaths_smoothed</th>\n",
       "      <th>...</th>\n",
       "      <th>male_smokers</th>\n",
       "      <th>handwashing_facilities</th>\n",
       "      <th>hospital_beds_per_thousand</th>\n",
       "      <th>life_expectancy</th>\n",
       "      <th>human_development_index</th>\n",
       "      <th>population</th>\n",
       "      <th>excess_mortality_cumulative_absolute</th>\n",
       "      <th>excess_mortality_cumulative</th>\n",
       "      <th>excess_mortality</th>\n",
       "      <th>excess_mortality_cumulative_per_million</th>\n",
       "    </tr>\n",
       "  </thead>\n",
       "  <tbody>\n",
       "    <tr>\n",
       "      <th>0</th>\n",
       "      <td>AFG</td>\n",
       "      <td>Asia</td>\n",
       "      <td>Afghanistan</td>\n",
       "      <td>2020-01-03</td>\n",
       "      <td>NaN</td>\n",
       "      <td>0.0</td>\n",
       "      <td>NaN</td>\n",
       "      <td>NaN</td>\n",
       "      <td>0.0</td>\n",
       "      <td>NaN</td>\n",
       "      <td>...</td>\n",
       "      <td>NaN</td>\n",
       "      <td>37.746</td>\n",
       "      <td>0.5</td>\n",
       "      <td>64.83</td>\n",
       "      <td>0.511</td>\n",
       "      <td>41128772.0</td>\n",
       "      <td>NaN</td>\n",
       "      <td>NaN</td>\n",
       "      <td>NaN</td>\n",
       "      <td>NaN</td>\n",
       "    </tr>\n",
       "    <tr>\n",
       "      <th>1</th>\n",
       "      <td>AFG</td>\n",
       "      <td>Asia</td>\n",
       "      <td>Afghanistan</td>\n",
       "      <td>2020-01-04</td>\n",
       "      <td>NaN</td>\n",
       "      <td>0.0</td>\n",
       "      <td>NaN</td>\n",
       "      <td>NaN</td>\n",
       "      <td>0.0</td>\n",
       "      <td>NaN</td>\n",
       "      <td>...</td>\n",
       "      <td>NaN</td>\n",
       "      <td>37.746</td>\n",
       "      <td>0.5</td>\n",
       "      <td>64.83</td>\n",
       "      <td>0.511</td>\n",
       "      <td>41128772.0</td>\n",
       "      <td>NaN</td>\n",
       "      <td>NaN</td>\n",
       "      <td>NaN</td>\n",
       "      <td>NaN</td>\n",
       "    </tr>\n",
       "    <tr>\n",
       "      <th>2</th>\n",
       "      <td>AFG</td>\n",
       "      <td>Asia</td>\n",
       "      <td>Afghanistan</td>\n",
       "      <td>2020-01-05</td>\n",
       "      <td>NaN</td>\n",
       "      <td>0.0</td>\n",
       "      <td>NaN</td>\n",
       "      <td>NaN</td>\n",
       "      <td>0.0</td>\n",
       "      <td>NaN</td>\n",
       "      <td>...</td>\n",
       "      <td>NaN</td>\n",
       "      <td>37.746</td>\n",
       "      <td>0.5</td>\n",
       "      <td>64.83</td>\n",
       "      <td>0.511</td>\n",
       "      <td>41128772.0</td>\n",
       "      <td>NaN</td>\n",
       "      <td>NaN</td>\n",
       "      <td>NaN</td>\n",
       "      <td>NaN</td>\n",
       "    </tr>\n",
       "    <tr>\n",
       "      <th>3</th>\n",
       "      <td>AFG</td>\n",
       "      <td>Asia</td>\n",
       "      <td>Afghanistan</td>\n",
       "      <td>2020-01-06</td>\n",
       "      <td>NaN</td>\n",
       "      <td>0.0</td>\n",
       "      <td>NaN</td>\n",
       "      <td>NaN</td>\n",
       "      <td>0.0</td>\n",
       "      <td>NaN</td>\n",
       "      <td>...</td>\n",
       "      <td>NaN</td>\n",
       "      <td>37.746</td>\n",
       "      <td>0.5</td>\n",
       "      <td>64.83</td>\n",
       "      <td>0.511</td>\n",
       "      <td>41128772.0</td>\n",
       "      <td>NaN</td>\n",
       "      <td>NaN</td>\n",
       "      <td>NaN</td>\n",
       "      <td>NaN</td>\n",
       "    </tr>\n",
       "    <tr>\n",
       "      <th>4</th>\n",
       "      <td>AFG</td>\n",
       "      <td>Asia</td>\n",
       "      <td>Afghanistan</td>\n",
       "      <td>2020-01-07</td>\n",
       "      <td>NaN</td>\n",
       "      <td>0.0</td>\n",
       "      <td>NaN</td>\n",
       "      <td>NaN</td>\n",
       "      <td>0.0</td>\n",
       "      <td>NaN</td>\n",
       "      <td>...</td>\n",
       "      <td>NaN</td>\n",
       "      <td>37.746</td>\n",
       "      <td>0.5</td>\n",
       "      <td>64.83</td>\n",
       "      <td>0.511</td>\n",
       "      <td>41128772.0</td>\n",
       "      <td>NaN</td>\n",
       "      <td>NaN</td>\n",
       "      <td>NaN</td>\n",
       "      <td>NaN</td>\n",
       "    </tr>\n",
       "  </tbody>\n",
       "</table>\n",
       "<p>5 rows × 67 columns</p>\n",
       "</div>"
      ],
      "text/plain": [
       "  iso_code continent     location        date  total_cases  new_cases  \\\n",
       "0      AFG      Asia  Afghanistan  2020-01-03          NaN        0.0   \n",
       "1      AFG      Asia  Afghanistan  2020-01-04          NaN        0.0   \n",
       "2      AFG      Asia  Afghanistan  2020-01-05          NaN        0.0   \n",
       "3      AFG      Asia  Afghanistan  2020-01-06          NaN        0.0   \n",
       "4      AFG      Asia  Afghanistan  2020-01-07          NaN        0.0   \n",
       "\n",
       "   new_cases_smoothed  total_deaths  new_deaths  new_deaths_smoothed  ...  \\\n",
       "0                 NaN           NaN         0.0                  NaN  ...   \n",
       "1                 NaN           NaN         0.0                  NaN  ...   \n",
       "2                 NaN           NaN         0.0                  NaN  ...   \n",
       "3                 NaN           NaN         0.0                  NaN  ...   \n",
       "4                 NaN           NaN         0.0                  NaN  ...   \n",
       "\n",
       "   male_smokers  handwashing_facilities  hospital_beds_per_thousand  \\\n",
       "0           NaN                  37.746                         0.5   \n",
       "1           NaN                  37.746                         0.5   \n",
       "2           NaN                  37.746                         0.5   \n",
       "3           NaN                  37.746                         0.5   \n",
       "4           NaN                  37.746                         0.5   \n",
       "\n",
       "   life_expectancy  human_development_index  population  \\\n",
       "0            64.83                    0.511  41128772.0   \n",
       "1            64.83                    0.511  41128772.0   \n",
       "2            64.83                    0.511  41128772.0   \n",
       "3            64.83                    0.511  41128772.0   \n",
       "4            64.83                    0.511  41128772.0   \n",
       "\n",
       "   excess_mortality_cumulative_absolute  excess_mortality_cumulative  \\\n",
       "0                                   NaN                          NaN   \n",
       "1                                   NaN                          NaN   \n",
       "2                                   NaN                          NaN   \n",
       "3                                   NaN                          NaN   \n",
       "4                                   NaN                          NaN   \n",
       "\n",
       "   excess_mortality  excess_mortality_cumulative_per_million  \n",
       "0               NaN                                      NaN  \n",
       "1               NaN                                      NaN  \n",
       "2               NaN                                      NaN  \n",
       "3               NaN                                      NaN  \n",
       "4               NaN                                      NaN  \n",
       "\n",
       "[5 rows x 67 columns]"
      ]
     },
     "execution_count": 3,
     "metadata": {},
     "output_type": "execute_result"
    }
   ],
   "source": [
    "df.head(5)"
   ]
  },
  {
   "cell_type": "code",
   "execution_count": 4,
   "id": "dc7079eb",
   "metadata": {},
   "outputs": [
    {
     "name": "stdout",
     "output_type": "stream",
     "text": [
      "<class 'pandas.core.frame.DataFrame'>\n",
      "RangeIndex: 337859 entries, 0 to 337858\n",
      "Data columns (total 67 columns):\n",
      " #   Column                                      Non-Null Count   Dtype  \n",
      "---  ------                                      --------------   -----  \n",
      " 0   iso_code                                    337859 non-null  object \n",
      " 1   continent                                   321786 non-null  object \n",
      " 2   location                                    337859 non-null  object \n",
      " 3   date                                        337859 non-null  object \n",
      " 4   total_cases                                 300132 non-null  float64\n",
      " 5   new_cases                                   328555 non-null  float64\n",
      " 6   new_cases_smoothed                          327296 non-null  float64\n",
      " 7   total_deaths                                278839 non-null  float64\n",
      " 8   new_deaths                                  328611 non-null  float64\n",
      " 9   new_deaths_smoothed                         327381 non-null  float64\n",
      " 10  total_cases_per_million                     300132 non-null  float64\n",
      " 11  new_cases_per_million                       328555 non-null  float64\n",
      " 12  new_cases_smoothed_per_million              327296 non-null  float64\n",
      " 13  total_deaths_per_million                    278839 non-null  float64\n",
      " 14  new_deaths_per_million                      328611 non-null  float64\n",
      " 15  new_deaths_smoothed_per_million             327381 non-null  float64\n",
      " 16  reproduction_rate                           184817 non-null  float64\n",
      " 17  icu_patients                                37299 non-null   float64\n",
      " 18  icu_patients_per_million                    37299 non-null   float64\n",
      " 19  hosp_patients                               38380 non-null   float64\n",
      " 20  hosp_patients_per_million                   38380 non-null   float64\n",
      " 21  weekly_icu_admissions                       10038 non-null   float64\n",
      " 22  weekly_icu_admissions_per_million           10038 non-null   float64\n",
      " 23  weekly_hosp_admissions                      22891 non-null   float64\n",
      " 24  weekly_hosp_admissions_per_million          22891 non-null   float64\n",
      " 25  total_tests                                 79387 non-null   float64\n",
      " 26  new_tests                                   75403 non-null   float64\n",
      " 27  total_tests_per_thousand                    79387 non-null   float64\n",
      " 28  new_tests_per_thousand                      75403 non-null   float64\n",
      " 29  new_tests_smoothed                          103965 non-null  float64\n",
      " 30  new_tests_smoothed_per_thousand             103965 non-null  float64\n",
      " 31  positive_rate                               95927 non-null   float64\n",
      " 32  tests_per_case                              94348 non-null   float64\n",
      " 33  tests_units                                 106788 non-null  object \n",
      " 34  total_vaccinations                          78276 non-null   float64\n",
      " 35  people_vaccinated                           74937 non-null   float64\n",
      " 36  people_fully_vaccinated                     71524 non-null   float64\n",
      " 37  total_boosters                              46603 non-null   float64\n",
      " 38  new_vaccinations                            64425 non-null   float64\n",
      " 39  new_vaccinations_smoothed                   177319 non-null  float64\n",
      " 40  total_vaccinations_per_hundred              78276 non-null   float64\n",
      " 41  people_vaccinated_per_hundred               74937 non-null   float64\n",
      " 42  people_fully_vaccinated_per_hundred         71524 non-null   float64\n",
      " 43  total_boosters_per_hundred                  46603 non-null   float64\n",
      " 44  new_vaccinations_smoothed_per_million       177319 non-null  float64\n",
      " 45  new_people_vaccinated_smoothed              177056 non-null  float64\n",
      " 46  new_people_vaccinated_smoothed_per_hundred  177056 non-null  float64\n",
      " 47  stringency_index                            197651 non-null  float64\n",
      " 48  population_density                          286727 non-null  float64\n",
      " 49  median_age                                  266679 non-null  float64\n",
      " 50  aged_65_older                               257335 non-null  float64\n",
      " 51  aged_70_older                               264007 non-null  float64\n",
      " 52  gdp_per_capita                              261340 non-null  float64\n",
      " 53  extreme_poverty                             168386 non-null  float64\n",
      " 54  cardiovasc_death_rate                       261914 non-null  float64\n",
      " 55  diabetes_prevalence                         275244 non-null  float64\n",
      " 56  female_smokers                              196459 non-null  float64\n",
      " 57  male_smokers                                193787 non-null  float64\n",
      " 58  handwashing_facilities                      128281 non-null  float64\n",
      " 59  hospital_beds_per_thousand                  231195 non-null  float64\n",
      " 60  life_expectancy                             310767 non-null  float64\n",
      " 61  human_development_index                     253868 non-null  float64\n",
      " 62  population                                  337859 non-null  float64\n",
      " 63  excess_mortality_cumulative_absolute        11667 non-null   float64\n",
      " 64  excess_mortality_cumulative                 11667 non-null   float64\n",
      " 65  excess_mortality                            11667 non-null   float64\n",
      " 66  excess_mortality_cumulative_per_million     11667 non-null   float64\n",
      "dtypes: float64(62), object(5)\n",
      "memory usage: 172.7+ MB\n"
     ]
    }
   ],
   "source": [
    "df.info()"
   ]
  },
  {
   "cell_type": "code",
   "execution_count": 5,
   "id": "b2fed66c",
   "metadata": {},
   "outputs": [
    {
     "data": {
      "text/plain": [
       "<bound method NDFrame.describe of        iso_code continent     location        date  total_cases  new_cases  \\\n",
       "0           AFG      Asia  Afghanistan  2020-01-03          NaN        0.0   \n",
       "1           AFG      Asia  Afghanistan  2020-01-04          NaN        0.0   \n",
       "2           AFG      Asia  Afghanistan  2020-01-05          NaN        0.0   \n",
       "3           AFG      Asia  Afghanistan  2020-01-06          NaN        0.0   \n",
       "4           AFG      Asia  Afghanistan  2020-01-07          NaN        0.0   \n",
       "...         ...       ...          ...         ...          ...        ...   \n",
       "337854      ZWE    Africa     Zimbabwe  2023-08-26     265721.0        0.0   \n",
       "337855      ZWE    Africa     Zimbabwe  2023-08-27     265721.0        0.0   \n",
       "337856      ZWE    Africa     Zimbabwe  2023-08-28     265721.0        0.0   \n",
       "337857      ZWE    Africa     Zimbabwe  2023-08-29     265721.0        0.0   \n",
       "337858      ZWE    Africa     Zimbabwe  2023-08-30     265721.0        0.0   \n",
       "\n",
       "        new_cases_smoothed  total_deaths  new_deaths  new_deaths_smoothed  \\\n",
       "0                      NaN           NaN         0.0                  NaN   \n",
       "1                      NaN           NaN         0.0                  NaN   \n",
       "2                      NaN           NaN         0.0                  NaN   \n",
       "3                      NaN           NaN         0.0                  NaN   \n",
       "4                      NaN           NaN         0.0                  NaN   \n",
       "...                    ...           ...         ...                  ...   \n",
       "337854                 0.0        5715.0         0.0                  0.0   \n",
       "337855                 0.0        5715.0         0.0                  0.0   \n",
       "337856                 0.0        5715.0         0.0                  0.0   \n",
       "337857                 0.0        5715.0         0.0                  0.0   \n",
       "337858                 0.0        5715.0         0.0                  0.0   \n",
       "\n",
       "        ...  male_smokers  handwashing_facilities  hospital_beds_per_thousand  \\\n",
       "0       ...           NaN                  37.746                         0.5   \n",
       "1       ...           NaN                  37.746                         0.5   \n",
       "2       ...           NaN                  37.746                         0.5   \n",
       "3       ...           NaN                  37.746                         0.5   \n",
       "4       ...           NaN                  37.746                         0.5   \n",
       "...     ...           ...                     ...                         ...   \n",
       "337854  ...          30.7                  36.791                         1.7   \n",
       "337855  ...          30.7                  36.791                         1.7   \n",
       "337856  ...          30.7                  36.791                         1.7   \n",
       "337857  ...          30.7                  36.791                         1.7   \n",
       "337858  ...          30.7                  36.791                         1.7   \n",
       "\n",
       "        life_expectancy  human_development_index  population  \\\n",
       "0                 64.83                    0.511  41128772.0   \n",
       "1                 64.83                    0.511  41128772.0   \n",
       "2                 64.83                    0.511  41128772.0   \n",
       "3                 64.83                    0.511  41128772.0   \n",
       "4                 64.83                    0.511  41128772.0   \n",
       "...                 ...                      ...         ...   \n",
       "337854            61.49                    0.571  16320539.0   \n",
       "337855            61.49                    0.571  16320539.0   \n",
       "337856            61.49                    0.571  16320539.0   \n",
       "337857            61.49                    0.571  16320539.0   \n",
       "337858            61.49                    0.571  16320539.0   \n",
       "\n",
       "        excess_mortality_cumulative_absolute  excess_mortality_cumulative  \\\n",
       "0                                        NaN                          NaN   \n",
       "1                                        NaN                          NaN   \n",
       "2                                        NaN                          NaN   \n",
       "3                                        NaN                          NaN   \n",
       "4                                        NaN                          NaN   \n",
       "...                                      ...                          ...   \n",
       "337854                                   NaN                          NaN   \n",
       "337855                                   NaN                          NaN   \n",
       "337856                                   NaN                          NaN   \n",
       "337857                                   NaN                          NaN   \n",
       "337858                                   NaN                          NaN   \n",
       "\n",
       "        excess_mortality  excess_mortality_cumulative_per_million  \n",
       "0                    NaN                                      NaN  \n",
       "1                    NaN                                      NaN  \n",
       "2                    NaN                                      NaN  \n",
       "3                    NaN                                      NaN  \n",
       "4                    NaN                                      NaN  \n",
       "...                  ...                                      ...  \n",
       "337854               NaN                                      NaN  \n",
       "337855               NaN                                      NaN  \n",
       "337856               NaN                                      NaN  \n",
       "337857               NaN                                      NaN  \n",
       "337858               NaN                                      NaN  \n",
       "\n",
       "[337859 rows x 67 columns]>"
      ]
     },
     "execution_count": 5,
     "metadata": {},
     "output_type": "execute_result"
    }
   ],
   "source": [
    "df.describe"
   ]
  },
  {
   "cell_type": "code",
   "execution_count": 6,
   "id": "9b47c22e",
   "metadata": {},
   "outputs": [
    {
     "data": {
      "text/plain": [
       "Index(['iso_code', 'continent', 'location', 'date', 'total_cases', 'new_cases',\n",
       "       'new_cases_smoothed', 'total_deaths', 'new_deaths',\n",
       "       'new_deaths_smoothed', 'total_cases_per_million',\n",
       "       'new_cases_per_million', 'new_cases_smoothed_per_million',\n",
       "       'total_deaths_per_million', 'new_deaths_per_million',\n",
       "       'new_deaths_smoothed_per_million', 'reproduction_rate', 'icu_patients',\n",
       "       'icu_patients_per_million', 'hosp_patients',\n",
       "       'hosp_patients_per_million', 'weekly_icu_admissions',\n",
       "       'weekly_icu_admissions_per_million', 'weekly_hosp_admissions',\n",
       "       'weekly_hosp_admissions_per_million', 'total_tests', 'new_tests',\n",
       "       'total_tests_per_thousand', 'new_tests_per_thousand',\n",
       "       'new_tests_smoothed', 'new_tests_smoothed_per_thousand',\n",
       "       'positive_rate', 'tests_per_case', 'tests_units', 'total_vaccinations',\n",
       "       'people_vaccinated', 'people_fully_vaccinated', 'total_boosters',\n",
       "       'new_vaccinations', 'new_vaccinations_smoothed',\n",
       "       'total_vaccinations_per_hundred', 'people_vaccinated_per_hundred',\n",
       "       'people_fully_vaccinated_per_hundred', 'total_boosters_per_hundred',\n",
       "       'new_vaccinations_smoothed_per_million',\n",
       "       'new_people_vaccinated_smoothed',\n",
       "       'new_people_vaccinated_smoothed_per_hundred', 'stringency_index',\n",
       "       'population_density', 'median_age', 'aged_65_older', 'aged_70_older',\n",
       "       'gdp_per_capita', 'extreme_poverty', 'cardiovasc_death_rate',\n",
       "       'diabetes_prevalence', 'female_smokers', 'male_smokers',\n",
       "       'handwashing_facilities', 'hospital_beds_per_thousand',\n",
       "       'life_expectancy', 'human_development_index', 'population',\n",
       "       'excess_mortality_cumulative_absolute', 'excess_mortality_cumulative',\n",
       "       'excess_mortality', 'excess_mortality_cumulative_per_million'],\n",
       "      dtype='object')"
      ]
     },
     "execution_count": 6,
     "metadata": {},
     "output_type": "execute_result"
    }
   ],
   "source": [
    "df.columns"
   ]
  },
  {
   "cell_type": "code",
   "execution_count": 7,
   "id": "3dd56663",
   "metadata": {},
   "outputs": [
    {
     "data": {
      "text/plain": [
       "(337859, 67)"
      ]
     },
     "execution_count": 7,
     "metadata": {},
     "output_type": "execute_result"
    }
   ],
   "source": [
    "df.shape"
   ]
  },
  {
   "cell_type": "code",
   "execution_count": 8,
   "id": "687886ff",
   "metadata": {},
   "outputs": [
    {
     "data": {
      "text/plain": [
       "array(['Asia', nan, 'Europe', 'Africa', 'Oceania', 'North America',\n",
       "       'South America'], dtype=object)"
      ]
     },
     "execution_count": 8,
     "metadata": {},
     "output_type": "execute_result"
    }
   ],
   "source": [
    "df.continent.unique()"
   ]
  },
  {
   "cell_type": "code",
   "execution_count": 9,
   "id": "16e49525",
   "metadata": {},
   "outputs": [
    {
     "data": {
      "text/plain": [
       "array(['Afghanistan', 'Africa', 'Albania', 'Algeria', 'American Samoa',\n",
       "       'Andorra', 'Angola', 'Anguilla', 'Antigua and Barbuda',\n",
       "       'Argentina', 'Armenia', 'Aruba', 'Asia', 'Australia', 'Austria',\n",
       "       'Azerbaijan', 'Bahamas', 'Bahrain', 'Bangladesh', 'Barbados',\n",
       "       'Belarus', 'Belgium', 'Belize', 'Benin', 'Bermuda', 'Bhutan',\n",
       "       'Bolivia', 'Bonaire Sint Eustatius and Saba',\n",
       "       'Bosnia and Herzegovina', 'Botswana', 'Brazil',\n",
       "       'British Virgin Islands', 'Brunei', 'Bulgaria', 'Burkina Faso',\n",
       "       'Burundi', 'Cambodia', 'Cameroon', 'Canada', 'Cape Verde',\n",
       "       'Cayman Islands', 'Central African Republic', 'Chad', 'Chile',\n",
       "       'China', 'Colombia', 'Comoros', 'Congo', 'Cook Islands',\n",
       "       'Costa Rica', \"Cote d'Ivoire\", 'Croatia', 'Cuba', 'Curacao',\n",
       "       'Cyprus', 'Czechia', 'Democratic Republic of Congo', 'Denmark',\n",
       "       'Djibouti', 'Dominica', 'Dominican Republic', 'Ecuador', 'Egypt',\n",
       "       'El Salvador', 'England', 'Equatorial Guinea', 'Eritrea',\n",
       "       'Estonia', 'Eswatini', 'Ethiopia', 'Europe', 'European Union',\n",
       "       'Faeroe Islands', 'Falkland Islands', 'Fiji', 'Finland', 'France',\n",
       "       'French Guiana', 'French Polynesia', 'Gabon', 'Gambia', 'Georgia',\n",
       "       'Germany', 'Ghana', 'Gibraltar', 'Greece', 'Greenland', 'Grenada',\n",
       "       'Guadeloupe', 'Guam', 'Guatemala', 'Guernsey', 'Guinea',\n",
       "       'Guinea-Bissau', 'Guyana', 'Haiti', 'High income', 'Honduras',\n",
       "       'Hong Kong', 'Hungary', 'Iceland', 'India', 'Indonesia', 'Iran',\n",
       "       'Iraq', 'Ireland', 'Isle of Man', 'Israel', 'Italy', 'Jamaica',\n",
       "       'Japan', 'Jersey', 'Jordan', 'Kazakhstan', 'Kenya', 'Kiribati',\n",
       "       'Kosovo', 'Kuwait', 'Kyrgyzstan', 'Laos', 'Latvia', 'Lebanon',\n",
       "       'Lesotho', 'Liberia', 'Libya', 'Liechtenstein', 'Lithuania',\n",
       "       'Low income', 'Lower middle income', 'Luxembourg', 'Macao',\n",
       "       'Madagascar', 'Malawi', 'Malaysia', 'Maldives', 'Mali', 'Malta',\n",
       "       'Marshall Islands', 'Martinique', 'Mauritania', 'Mauritius',\n",
       "       'Mayotte', 'Mexico', 'Micronesia (country)', 'Moldova', 'Monaco',\n",
       "       'Mongolia', 'Montenegro', 'Montserrat', 'Morocco', 'Mozambique',\n",
       "       'Myanmar', 'Namibia', 'Nauru', 'Nepal', 'Netherlands',\n",
       "       'New Caledonia', 'New Zealand', 'Nicaragua', 'Niger', 'Nigeria',\n",
       "       'Niue', 'North America', 'North Korea', 'North Macedonia',\n",
       "       'Northern Cyprus', 'Northern Ireland', 'Northern Mariana Islands',\n",
       "       'Norway', 'Oceania', 'Oman', 'Pakistan', 'Palau', 'Palestine',\n",
       "       'Panama', 'Papua New Guinea', 'Paraguay', 'Peru', 'Philippines',\n",
       "       'Pitcairn', 'Poland', 'Portugal', 'Puerto Rico', 'Qatar',\n",
       "       'Reunion', 'Romania', 'Russia', 'Rwanda', 'Saint Barthelemy',\n",
       "       'Saint Helena', 'Saint Kitts and Nevis', 'Saint Lucia',\n",
       "       'Saint Martin (French part)', 'Saint Pierre and Miquelon',\n",
       "       'Saint Vincent and the Grenadines', 'Samoa', 'San Marino',\n",
       "       'Sao Tome and Principe', 'Saudi Arabia', 'Scotland', 'Senegal',\n",
       "       'Serbia', 'Seychelles', 'Sierra Leone', 'Singapore',\n",
       "       'Sint Maarten (Dutch part)', 'Slovakia', 'Slovenia',\n",
       "       'Solomon Islands', 'Somalia', 'South Africa', 'South America',\n",
       "       'South Korea', 'South Sudan', 'Spain', 'Sri Lanka', 'Sudan',\n",
       "       'Suriname', 'Sweden', 'Switzerland', 'Syria', 'Taiwan',\n",
       "       'Tajikistan', 'Tanzania', 'Thailand', 'Timor', 'Togo', 'Tokelau',\n",
       "       'Tonga', 'Trinidad and Tobago', 'Tunisia', 'Turkey',\n",
       "       'Turkmenistan', 'Turks and Caicos Islands', 'Tuvalu', 'Uganda',\n",
       "       'Ukraine', 'United Arab Emirates', 'United Kingdom',\n",
       "       'United States', 'United States Virgin Islands',\n",
       "       'Upper middle income', 'Uruguay', 'Uzbekistan', 'Vanuatu',\n",
       "       'Vatican', 'Venezuela', 'Vietnam', 'Wales', 'Wallis and Futuna',\n",
       "       'Western Sahara', 'World', 'Yemen', 'Zambia', 'Zimbabwe'],\n",
       "      dtype=object)"
      ]
     },
     "execution_count": 9,
     "metadata": {},
     "output_type": "execute_result"
    }
   ],
   "source": [
    "df.location.unique()"
   ]
  },
  {
   "cell_type": "markdown",
   "id": "13ce9ce6",
   "metadata": {},
   "source": [
    "## **Data Cleaning"
   ]
  },
  {
   "cell_type": "code",
   "execution_count": 10,
   "id": "561c26d2",
   "metadata": {},
   "outputs": [
    {
     "data": {
      "text/html": [
       "<div>\n",
       "<style scoped>\n",
       "    .dataframe tbody tr th:only-of-type {\n",
       "        vertical-align: middle;\n",
       "    }\n",
       "\n",
       "    .dataframe tbody tr th {\n",
       "        vertical-align: top;\n",
       "    }\n",
       "\n",
       "    .dataframe thead th {\n",
       "        text-align: right;\n",
       "    }\n",
       "</style>\n",
       "<table border=\"1\" class=\"dataframe\">\n",
       "  <thead>\n",
       "    <tr style=\"text-align: right;\">\n",
       "      <th></th>\n",
       "      <th>iso_code</th>\n",
       "      <th>continent</th>\n",
       "      <th>location</th>\n",
       "      <th>date</th>\n",
       "      <th>total_cases</th>\n",
       "      <th>new_cases</th>\n",
       "      <th>new_cases_smoothed</th>\n",
       "      <th>total_deaths</th>\n",
       "      <th>new_deaths</th>\n",
       "      <th>new_deaths_smoothed</th>\n",
       "      <th>...</th>\n",
       "      <th>male_smokers</th>\n",
       "      <th>handwashing_facilities</th>\n",
       "      <th>hospital_beds_per_thousand</th>\n",
       "      <th>life_expectancy</th>\n",
       "      <th>human_development_index</th>\n",
       "      <th>population</th>\n",
       "      <th>excess_mortality_cumulative_absolute</th>\n",
       "      <th>excess_mortality_cumulative</th>\n",
       "      <th>excess_mortality</th>\n",
       "      <th>excess_mortality_cumulative_per_million</th>\n",
       "    </tr>\n",
       "  </thead>\n",
       "  <tbody>\n",
       "    <tr>\n",
       "      <th>0</th>\n",
       "      <td>False</td>\n",
       "      <td>False</td>\n",
       "      <td>False</td>\n",
       "      <td>False</td>\n",
       "      <td>True</td>\n",
       "      <td>False</td>\n",
       "      <td>True</td>\n",
       "      <td>True</td>\n",
       "      <td>False</td>\n",
       "      <td>True</td>\n",
       "      <td>...</td>\n",
       "      <td>True</td>\n",
       "      <td>False</td>\n",
       "      <td>False</td>\n",
       "      <td>False</td>\n",
       "      <td>False</td>\n",
       "      <td>False</td>\n",
       "      <td>True</td>\n",
       "      <td>True</td>\n",
       "      <td>True</td>\n",
       "      <td>True</td>\n",
       "    </tr>\n",
       "    <tr>\n",
       "      <th>1</th>\n",
       "      <td>False</td>\n",
       "      <td>False</td>\n",
       "      <td>False</td>\n",
       "      <td>False</td>\n",
       "      <td>True</td>\n",
       "      <td>False</td>\n",
       "      <td>True</td>\n",
       "      <td>True</td>\n",
       "      <td>False</td>\n",
       "      <td>True</td>\n",
       "      <td>...</td>\n",
       "      <td>True</td>\n",
       "      <td>False</td>\n",
       "      <td>False</td>\n",
       "      <td>False</td>\n",
       "      <td>False</td>\n",
       "      <td>False</td>\n",
       "      <td>True</td>\n",
       "      <td>True</td>\n",
       "      <td>True</td>\n",
       "      <td>True</td>\n",
       "    </tr>\n",
       "    <tr>\n",
       "      <th>2</th>\n",
       "      <td>False</td>\n",
       "      <td>False</td>\n",
       "      <td>False</td>\n",
       "      <td>False</td>\n",
       "      <td>True</td>\n",
       "      <td>False</td>\n",
       "      <td>True</td>\n",
       "      <td>True</td>\n",
       "      <td>False</td>\n",
       "      <td>True</td>\n",
       "      <td>...</td>\n",
       "      <td>True</td>\n",
       "      <td>False</td>\n",
       "      <td>False</td>\n",
       "      <td>False</td>\n",
       "      <td>False</td>\n",
       "      <td>False</td>\n",
       "      <td>True</td>\n",
       "      <td>True</td>\n",
       "      <td>True</td>\n",
       "      <td>True</td>\n",
       "    </tr>\n",
       "    <tr>\n",
       "      <th>3</th>\n",
       "      <td>False</td>\n",
       "      <td>False</td>\n",
       "      <td>False</td>\n",
       "      <td>False</td>\n",
       "      <td>True</td>\n",
       "      <td>False</td>\n",
       "      <td>True</td>\n",
       "      <td>True</td>\n",
       "      <td>False</td>\n",
       "      <td>True</td>\n",
       "      <td>...</td>\n",
       "      <td>True</td>\n",
       "      <td>False</td>\n",
       "      <td>False</td>\n",
       "      <td>False</td>\n",
       "      <td>False</td>\n",
       "      <td>False</td>\n",
       "      <td>True</td>\n",
       "      <td>True</td>\n",
       "      <td>True</td>\n",
       "      <td>True</td>\n",
       "    </tr>\n",
       "    <tr>\n",
       "      <th>4</th>\n",
       "      <td>False</td>\n",
       "      <td>False</td>\n",
       "      <td>False</td>\n",
       "      <td>False</td>\n",
       "      <td>True</td>\n",
       "      <td>False</td>\n",
       "      <td>True</td>\n",
       "      <td>True</td>\n",
       "      <td>False</td>\n",
       "      <td>True</td>\n",
       "      <td>...</td>\n",
       "      <td>True</td>\n",
       "      <td>False</td>\n",
       "      <td>False</td>\n",
       "      <td>False</td>\n",
       "      <td>False</td>\n",
       "      <td>False</td>\n",
       "      <td>True</td>\n",
       "      <td>True</td>\n",
       "      <td>True</td>\n",
       "      <td>True</td>\n",
       "    </tr>\n",
       "    <tr>\n",
       "      <th>...</th>\n",
       "      <td>...</td>\n",
       "      <td>...</td>\n",
       "      <td>...</td>\n",
       "      <td>...</td>\n",
       "      <td>...</td>\n",
       "      <td>...</td>\n",
       "      <td>...</td>\n",
       "      <td>...</td>\n",
       "      <td>...</td>\n",
       "      <td>...</td>\n",
       "      <td>...</td>\n",
       "      <td>...</td>\n",
       "      <td>...</td>\n",
       "      <td>...</td>\n",
       "      <td>...</td>\n",
       "      <td>...</td>\n",
       "      <td>...</td>\n",
       "      <td>...</td>\n",
       "      <td>...</td>\n",
       "      <td>...</td>\n",
       "      <td>...</td>\n",
       "    </tr>\n",
       "    <tr>\n",
       "      <th>337854</th>\n",
       "      <td>False</td>\n",
       "      <td>False</td>\n",
       "      <td>False</td>\n",
       "      <td>False</td>\n",
       "      <td>False</td>\n",
       "      <td>False</td>\n",
       "      <td>False</td>\n",
       "      <td>False</td>\n",
       "      <td>False</td>\n",
       "      <td>False</td>\n",
       "      <td>...</td>\n",
       "      <td>False</td>\n",
       "      <td>False</td>\n",
       "      <td>False</td>\n",
       "      <td>False</td>\n",
       "      <td>False</td>\n",
       "      <td>False</td>\n",
       "      <td>True</td>\n",
       "      <td>True</td>\n",
       "      <td>True</td>\n",
       "      <td>True</td>\n",
       "    </tr>\n",
       "    <tr>\n",
       "      <th>337855</th>\n",
       "      <td>False</td>\n",
       "      <td>False</td>\n",
       "      <td>False</td>\n",
       "      <td>False</td>\n",
       "      <td>False</td>\n",
       "      <td>False</td>\n",
       "      <td>False</td>\n",
       "      <td>False</td>\n",
       "      <td>False</td>\n",
       "      <td>False</td>\n",
       "      <td>...</td>\n",
       "      <td>False</td>\n",
       "      <td>False</td>\n",
       "      <td>False</td>\n",
       "      <td>False</td>\n",
       "      <td>False</td>\n",
       "      <td>False</td>\n",
       "      <td>True</td>\n",
       "      <td>True</td>\n",
       "      <td>True</td>\n",
       "      <td>True</td>\n",
       "    </tr>\n",
       "    <tr>\n",
       "      <th>337856</th>\n",
       "      <td>False</td>\n",
       "      <td>False</td>\n",
       "      <td>False</td>\n",
       "      <td>False</td>\n",
       "      <td>False</td>\n",
       "      <td>False</td>\n",
       "      <td>False</td>\n",
       "      <td>False</td>\n",
       "      <td>False</td>\n",
       "      <td>False</td>\n",
       "      <td>...</td>\n",
       "      <td>False</td>\n",
       "      <td>False</td>\n",
       "      <td>False</td>\n",
       "      <td>False</td>\n",
       "      <td>False</td>\n",
       "      <td>False</td>\n",
       "      <td>True</td>\n",
       "      <td>True</td>\n",
       "      <td>True</td>\n",
       "      <td>True</td>\n",
       "    </tr>\n",
       "    <tr>\n",
       "      <th>337857</th>\n",
       "      <td>False</td>\n",
       "      <td>False</td>\n",
       "      <td>False</td>\n",
       "      <td>False</td>\n",
       "      <td>False</td>\n",
       "      <td>False</td>\n",
       "      <td>False</td>\n",
       "      <td>False</td>\n",
       "      <td>False</td>\n",
       "      <td>False</td>\n",
       "      <td>...</td>\n",
       "      <td>False</td>\n",
       "      <td>False</td>\n",
       "      <td>False</td>\n",
       "      <td>False</td>\n",
       "      <td>False</td>\n",
       "      <td>False</td>\n",
       "      <td>True</td>\n",
       "      <td>True</td>\n",
       "      <td>True</td>\n",
       "      <td>True</td>\n",
       "    </tr>\n",
       "    <tr>\n",
       "      <th>337858</th>\n",
       "      <td>False</td>\n",
       "      <td>False</td>\n",
       "      <td>False</td>\n",
       "      <td>False</td>\n",
       "      <td>False</td>\n",
       "      <td>False</td>\n",
       "      <td>False</td>\n",
       "      <td>False</td>\n",
       "      <td>False</td>\n",
       "      <td>False</td>\n",
       "      <td>...</td>\n",
       "      <td>False</td>\n",
       "      <td>False</td>\n",
       "      <td>False</td>\n",
       "      <td>False</td>\n",
       "      <td>False</td>\n",
       "      <td>False</td>\n",
       "      <td>True</td>\n",
       "      <td>True</td>\n",
       "      <td>True</td>\n",
       "      <td>True</td>\n",
       "    </tr>\n",
       "  </tbody>\n",
       "</table>\n",
       "<p>337859 rows × 67 columns</p>\n",
       "</div>"
      ],
      "text/plain": [
       "        iso_code  continent  location   date  total_cases  new_cases  \\\n",
       "0          False      False     False  False         True      False   \n",
       "1          False      False     False  False         True      False   \n",
       "2          False      False     False  False         True      False   \n",
       "3          False      False     False  False         True      False   \n",
       "4          False      False     False  False         True      False   \n",
       "...          ...        ...       ...    ...          ...        ...   \n",
       "337854     False      False     False  False        False      False   \n",
       "337855     False      False     False  False        False      False   \n",
       "337856     False      False     False  False        False      False   \n",
       "337857     False      False     False  False        False      False   \n",
       "337858     False      False     False  False        False      False   \n",
       "\n",
       "        new_cases_smoothed  total_deaths  new_deaths  new_deaths_smoothed  \\\n",
       "0                     True          True       False                 True   \n",
       "1                     True          True       False                 True   \n",
       "2                     True          True       False                 True   \n",
       "3                     True          True       False                 True   \n",
       "4                     True          True       False                 True   \n",
       "...                    ...           ...         ...                  ...   \n",
       "337854               False         False       False                False   \n",
       "337855               False         False       False                False   \n",
       "337856               False         False       False                False   \n",
       "337857               False         False       False                False   \n",
       "337858               False         False       False                False   \n",
       "\n",
       "        ...  male_smokers  handwashing_facilities  hospital_beds_per_thousand  \\\n",
       "0       ...          True                   False                       False   \n",
       "1       ...          True                   False                       False   \n",
       "2       ...          True                   False                       False   \n",
       "3       ...          True                   False                       False   \n",
       "4       ...          True                   False                       False   \n",
       "...     ...           ...                     ...                         ...   \n",
       "337854  ...         False                   False                       False   \n",
       "337855  ...         False                   False                       False   \n",
       "337856  ...         False                   False                       False   \n",
       "337857  ...         False                   False                       False   \n",
       "337858  ...         False                   False                       False   \n",
       "\n",
       "        life_expectancy  human_development_index  population  \\\n",
       "0                 False                    False       False   \n",
       "1                 False                    False       False   \n",
       "2                 False                    False       False   \n",
       "3                 False                    False       False   \n",
       "4                 False                    False       False   \n",
       "...                 ...                      ...         ...   \n",
       "337854            False                    False       False   \n",
       "337855            False                    False       False   \n",
       "337856            False                    False       False   \n",
       "337857            False                    False       False   \n",
       "337858            False                    False       False   \n",
       "\n",
       "        excess_mortality_cumulative_absolute  excess_mortality_cumulative  \\\n",
       "0                                       True                         True   \n",
       "1                                       True                         True   \n",
       "2                                       True                         True   \n",
       "3                                       True                         True   \n",
       "4                                       True                         True   \n",
       "...                                      ...                          ...   \n",
       "337854                                  True                         True   \n",
       "337855                                  True                         True   \n",
       "337856                                  True                         True   \n",
       "337857                                  True                         True   \n",
       "337858                                  True                         True   \n",
       "\n",
       "        excess_mortality  excess_mortality_cumulative_per_million  \n",
       "0                   True                                     True  \n",
       "1                   True                                     True  \n",
       "2                   True                                     True  \n",
       "3                   True                                     True  \n",
       "4                   True                                     True  \n",
       "...                  ...                                      ...  \n",
       "337854              True                                     True  \n",
       "337855              True                                     True  \n",
       "337856              True                                     True  \n",
       "337857              True                                     True  \n",
       "337858              True                                     True  \n",
       "\n",
       "[337859 rows x 67 columns]"
      ]
     },
     "execution_count": 10,
     "metadata": {},
     "output_type": "execute_result"
    }
   ],
   "source": [
    "df.isnull()"
   ]
  },
  {
   "cell_type": "code",
   "execution_count": 11,
   "id": "74654539",
   "metadata": {},
   "outputs": [
    {
     "data": {
      "text/plain": [
       "iso_code                                        0\n",
       "continent                                   16073\n",
       "location                                        0\n",
       "date                                            0\n",
       "total_cases                                 37727\n",
       "                                            ...  \n",
       "population                                      0\n",
       "excess_mortality_cumulative_absolute       326192\n",
       "excess_mortality_cumulative                326192\n",
       "excess_mortality                           326192\n",
       "excess_mortality_cumulative_per_million    326192\n",
       "Length: 67, dtype: int64"
      ]
     },
     "execution_count": 11,
     "metadata": {},
     "output_type": "execute_result"
    }
   ],
   "source": [
    "df.isnull().sum()"
   ]
  },
  {
   "cell_type": "code",
   "execution_count": 12,
   "id": "7d4b1425",
   "metadata": {},
   "outputs": [],
   "source": [
    "df.drop([\"excess_mortality_cumulative_per_million\",\"excess_mortality\",\"excess_mortality_cumulative\",\"excess_mortality_cumulative_absolute\",\"total_cases\",\"continent\"],axis=1, inplace= True)"
   ]
  },
  {
   "cell_type": "code",
   "execution_count": 13,
   "id": "18c89274",
   "metadata": {},
   "outputs": [
    {
     "data": {
      "text/plain": [
       "8401962.0"
      ]
     },
     "execution_count": 13,
     "metadata": {},
     "output_type": "execute_result"
    }
   ],
   "source": [
    "df.new_cases.max()"
   ]
  },
  {
   "cell_type": "code",
   "execution_count": 14,
   "id": "2c47c208",
   "metadata": {},
   "outputs": [
    {
     "data": {
      "text/plain": [
       "5169219852.0"
      ]
     },
     "execution_count": 14,
     "metadata": {},
     "output_type": "execute_result"
    }
   ],
   "source": [
    "df.people_fully_vaccinated.max()"
   ]
  },
  {
   "cell_type": "code",
   "execution_count": 15,
   "id": "d3b8ade0",
   "metadata": {},
   "outputs": [
    {
     "data": {
      "text/plain": [
       "6956160.0"
      ]
     },
     "execution_count": 15,
     "metadata": {},
     "output_type": "execute_result"
    }
   ],
   "source": [
    "df.total_deaths.max()"
   ]
  },
  {
   "cell_type": "code",
   "execution_count": 16,
   "id": "0b6292e4",
   "metadata": {},
   "outputs": [
    {
     "data": {
      "text/plain": [
       "23562094437.0"
      ]
     },
     "execution_count": 16,
     "metadata": {},
     "output_type": "execute_result"
    }
   ],
   "source": [
    "df.total_deaths.sum()"
   ]
  },
  {
   "cell_type": "code",
   "execution_count": 17,
   "id": "c68f621f",
   "metadata": {},
   "outputs": [
    {
     "name": "stdout",
     "output_type": "stream",
     "text": [
      "Most affected location--- Sweden\n"
     ]
    }
   ],
   "source": [
    "most_affect= df['location'].value_counts().idxmax()\n",
    "print(\"Most affected location---\",most_affect)"
   ]
  },
  {
   "cell_type": "code",
   "execution_count": null,
   "id": "b482627d",
   "metadata": {},
   "outputs": [],
   "source": []
  },
  {
   "cell_type": "markdown",
   "id": "15f36fdb",
   "metadata": {},
   "source": [
    "## **Data Visualisations"
   ]
  },
  {
   "cell_type": "code",
   "execution_count": 18,
   "id": "c4cd3077",
   "metadata": {},
   "outputs": [
    {
     "data": {
      "image/png": "[encoded data removed]",
      "text/plain": [
       "<Figure size 640x480 with 1 Axes>"
      ]
     },
     "metadata": {},
     "output_type": "display_data"
    }
   ],
   "source": [
    "sns.set_style('darkgrid')\n",
    "plt.scatter(df['people_fully_vaccinated'],df['total_deaths'])\n",
    "plt.xlabel('people_fully_vaccinated')\n",
    "plt.ylabel('total_deaths')\n",
    "plt.title('Correlation Between vaccinated and Deaths')\n",
    "plt.show()"
   ]
  },
  {
   "cell_type": "markdown",
   "id": "f060f395",
   "metadata": {},
   "source": [
    "most_affected_location= df.value_counts('location')"
   ]
  },
  {
   "cell_type": "code",
   "execution_count": 19,
   "id": "82d1d009",
   "metadata": {},
   "outputs": [
    {
     "data": {
      "text/plain": [
       "8401962.0"
      ]
     },
     "execution_count": 19,
     "metadata": {},
     "output_type": "execute_result"
    }
   ],
   "source": [
    "df.new_cases.max()"
   ]
  },
  {
   "cell_type": "code",
   "execution_count": 20,
   "id": "26c64ff6",
   "metadata": {},
   "outputs": [],
   "source": [
    "table1= ['date','new_cases','total_cases_per_million','new_deaths_per_million','icu_patients_per_million','hosp_patients_per_million','weekly_icu_admissions_per_million', 'weekly_hosp_admissions','excess_mortality_cumulative_per_million']"
   ]
  },
  {
   "cell_type": "code",
   "execution_count": 21,
   "id": "87a5a843",
   "metadata": {},
   "outputs": [],
   "source": [
    "df1=pd.DataFrame(df, columns=table1)"
   ]
  },
  {
   "cell_type": "code",
   "execution_count": 22,
   "id": "c6399797",
   "metadata": {},
   "outputs": [
    {
     "data": {
      "text/html": [
       "<div>\n",
       "<style scoped>\n",
       "    .dataframe tbody tr th:only-of-type {\n",
       "        vertical-align: middle;\n",
       "    }\n",
       "\n",
       "    .dataframe tbody tr th {\n",
       "        vertical-align: top;\n",
       "    }\n",
       "\n",
       "    .dataframe thead th {\n",
       "        text-align: right;\n",
       "    }\n",
       "</style>\n",
       "<table border=\"1\" class=\"dataframe\">\n",
       "  <thead>\n",
       "    <tr style=\"text-align: right;\">\n",
       "      <th></th>\n",
       "      <th>date</th>\n",
       "      <th>new_cases</th>\n",
       "      <th>total_cases_per_million</th>\n",
       "      <th>new_deaths_per_million</th>\n",
       "      <th>icu_patients_per_million</th>\n",
       "      <th>hosp_patients_per_million</th>\n",
       "      <th>weekly_icu_admissions_per_million</th>\n",
       "      <th>weekly_hosp_admissions</th>\n",
       "      <th>excess_mortality_cumulative_per_million</th>\n",
       "    </tr>\n",
       "  </thead>\n",
       "  <tbody>\n",
       "    <tr>\n",
       "      <th>0</th>\n",
       "      <td>2020-01-03</td>\n",
       "      <td>0.0</td>\n",
       "      <td>NaN</td>\n",
       "      <td>0.0</td>\n",
       "      <td>NaN</td>\n",
       "      <td>NaN</td>\n",
       "      <td>NaN</td>\n",
       "      <td>NaN</td>\n",
       "      <td>NaN</td>\n",
       "    </tr>\n",
       "    <tr>\n",
       "      <th>1</th>\n",
       "      <td>2020-01-04</td>\n",
       "      <td>0.0</td>\n",
       "      <td>NaN</td>\n",
       "      <td>0.0</td>\n",
       "      <td>NaN</td>\n",
       "      <td>NaN</td>\n",
       "      <td>NaN</td>\n",
       "      <td>NaN</td>\n",
       "      <td>NaN</td>\n",
       "    </tr>\n",
       "    <tr>\n",
       "      <th>2</th>\n",
       "      <td>2020-01-05</td>\n",
       "      <td>0.0</td>\n",
       "      <td>NaN</td>\n",
       "      <td>0.0</td>\n",
       "      <td>NaN</td>\n",
       "      <td>NaN</td>\n",
       "      <td>NaN</td>\n",
       "      <td>NaN</td>\n",
       "      <td>NaN</td>\n",
       "    </tr>\n",
       "    <tr>\n",
       "      <th>3</th>\n",
       "      <td>2020-01-06</td>\n",
       "      <td>0.0</td>\n",
       "      <td>NaN</td>\n",
       "      <td>0.0</td>\n",
       "      <td>NaN</td>\n",
       "      <td>NaN</td>\n",
       "      <td>NaN</td>\n",
       "      <td>NaN</td>\n",
       "      <td>NaN</td>\n",
       "    </tr>\n",
       "    <tr>\n",
       "      <th>4</th>\n",
       "      <td>2020-01-07</td>\n",
       "      <td>0.0</td>\n",
       "      <td>NaN</td>\n",
       "      <td>0.0</td>\n",
       "      <td>NaN</td>\n",
       "      <td>NaN</td>\n",
       "      <td>NaN</td>\n",
       "      <td>NaN</td>\n",
       "      <td>NaN</td>\n",
       "    </tr>\n",
       "    <tr>\n",
       "      <th>...</th>\n",
       "      <td>...</td>\n",
       "      <td>...</td>\n",
       "      <td>...</td>\n",
       "      <td>...</td>\n",
       "      <td>...</td>\n",
       "      <td>...</td>\n",
       "      <td>...</td>\n",
       "      <td>...</td>\n",
       "      <td>...</td>\n",
       "    </tr>\n",
       "    <tr>\n",
       "      <th>337854</th>\n",
       "      <td>2023-08-26</td>\n",
       "      <td>0.0</td>\n",
       "      <td>16281.386</td>\n",
       "      <td>0.0</td>\n",
       "      <td>NaN</td>\n",
       "      <td>NaN</td>\n",
       "      <td>NaN</td>\n",
       "      <td>NaN</td>\n",
       "      <td>NaN</td>\n",
       "    </tr>\n",
       "    <tr>\n",
       "      <th>337855</th>\n",
       "      <td>2023-08-27</td>\n",
       "      <td>0.0</td>\n",
       "      <td>16281.386</td>\n",
       "      <td>0.0</td>\n",
       "      <td>NaN</td>\n",
       "      <td>NaN</td>\n",
       "      <td>NaN</td>\n",
       "      <td>NaN</td>\n",
       "      <td>NaN</td>\n",
       "    </tr>\n",
       "    <tr>\n",
       "      <th>337856</th>\n",
       "      <td>2023-08-28</td>\n",
       "      <td>0.0</td>\n",
       "      <td>16281.386</td>\n",
       "      <td>0.0</td>\n",
       "      <td>NaN</td>\n",
       "      <td>NaN</td>\n",
       "      <td>NaN</td>\n",
       "      <td>NaN</td>\n",
       "      <td>NaN</td>\n",
       "    </tr>\n",
       "    <tr>\n",
       "      <th>337857</th>\n",
       "      <td>2023-08-29</td>\n",
       "      <td>0.0</td>\n",
       "      <td>16281.386</td>\n",
       "      <td>0.0</td>\n",
       "      <td>NaN</td>\n",
       "      <td>NaN</td>\n",
       "      <td>NaN</td>\n",
       "      <td>NaN</td>\n",
       "      <td>NaN</td>\n",
       "    </tr>\n",
       "    <tr>\n",
       "      <th>337858</th>\n",
       "      <td>2023-08-30</td>\n",
       "      <td>0.0</td>\n",
       "      <td>16281.386</td>\n",
       "      <td>0.0</td>\n",
       "      <td>NaN</td>\n",
       "      <td>NaN</td>\n",
       "      <td>NaN</td>\n",
       "      <td>NaN</td>\n",
       "      <td>NaN</td>\n",
       "    </tr>\n",
       "  </tbody>\n",
       "</table>\n",
       "<p>337859 rows × 9 columns</p>\n",
       "</div>"
      ],
      "text/plain": [
       "              date  new_cases  total_cases_per_million  \\\n",
       "0       2020-01-03        0.0                      NaN   \n",
       "1       2020-01-04        0.0                      NaN   \n",
       "2       2020-01-05        0.0                      NaN   \n",
       "3       2020-01-06        0.0                      NaN   \n",
       "4       2020-01-07        0.0                      NaN   \n",
       "...            ...        ...                      ...   \n",
       "337854  2023-08-26        0.0                16281.386   \n",
       "337855  2023-08-27        0.0                16281.386   \n",
       "337856  2023-08-28        0.0                16281.386   \n",
       "337857  2023-08-29        0.0                16281.386   \n",
       "337858  2023-08-30        0.0                16281.386   \n",
       "\n",
       "        new_deaths_per_million  icu_patients_per_million  \\\n",
       "0                          0.0                       NaN   \n",
       "1                          0.0                       NaN   \n",
       "2                          0.0                       NaN   \n",
       "3                          0.0                       NaN   \n",
       "4                          0.0                       NaN   \n",
       "...                        ...                       ...   \n",
       "337854                     0.0                       NaN   \n",
       "337855                     0.0                       NaN   \n",
       "337856                     0.0                       NaN   \n",
       "337857                     0.0                       NaN   \n",
       "337858                     0.0                       NaN   \n",
       "\n",
       "        hosp_patients_per_million  weekly_icu_admissions_per_million  \\\n",
       "0                             NaN                                NaN   \n",
       "1                             NaN                                NaN   \n",
       "2                             NaN                                NaN   \n",
       "3                             NaN                                NaN   \n",
       "4                             NaN                                NaN   \n",
       "...                           ...                                ...   \n",
       "337854                        NaN                                NaN   \n",
       "337855                        NaN                                NaN   \n",
       "337856                        NaN                                NaN   \n",
       "337857                        NaN                                NaN   \n",
       "337858                        NaN                                NaN   \n",
       "\n",
       "        weekly_hosp_admissions  excess_mortality_cumulative_per_million  \n",
       "0                          NaN                                      NaN  \n",
       "1                          NaN                                      NaN  \n",
       "2                          NaN                                      NaN  \n",
       "3                          NaN                                      NaN  \n",
       "4                          NaN                                      NaN  \n",
       "...                        ...                                      ...  \n",
       "337854                     NaN                                      NaN  \n",
       "337855                     NaN                                      NaN  \n",
       "337856                     NaN                                      NaN  \n",
       "337857                     NaN                                      NaN  \n",
       "337858                     NaN                                      NaN  \n",
       "\n",
       "[337859 rows x 9 columns]"
      ]
     },
     "execution_count": 22,
     "metadata": {},
     "output_type": "execute_result"
    }
   ],
   "source": [
    "df1"
   ]
  },
  {
   "cell_type": "code",
   "execution_count": 23,
   "id": "b427f71e",
   "metadata": {},
   "outputs": [],
   "source": [
    "df1.drop(['date'],axis=1, inplace= True)"
   ]
  },
  {
   "cell_type": "code",
   "execution_count": 24,
   "id": "b04c1fc6",
   "metadata": {},
   "outputs": [],
   "source": [
    "df1.fillna(0, inplace=True)"
   ]
  },
  {
   "cell_type": "code",
   "execution_count": 25,
   "id": "ecc05673",
   "metadata": {},
   "outputs": [],
   "source": [
    "corr1= df1.corr()"
   ]
  },
  {
   "cell_type": "code",
   "execution_count": 26,
   "id": "f3fcdc13",
   "metadata": {},
   "outputs": [
    {
     "data": {
      "text/html": [
       "<div>\n",
       "<style scoped>\n",
       "    .dataframe tbody tr th:only-of-type {\n",
       "        vertical-align: middle;\n",
       "    }\n",
       "\n",
       "    .dataframe tbody tr th {\n",
       "        vertical-align: top;\n",
       "    }\n",
       "\n",
       "    .dataframe thead th {\n",
       "        text-align: right;\n",
       "    }\n",
       "</style>\n",
       "<table border=\"1\" class=\"dataframe\">\n",
       "  <thead>\n",
       "    <tr style=\"text-align: right;\">\n",
       "      <th></th>\n",
       "      <th>new_cases</th>\n",
       "      <th>total_cases_per_million</th>\n",
       "      <th>new_deaths_per_million</th>\n",
       "      <th>icu_patients_per_million</th>\n",
       "      <th>hosp_patients_per_million</th>\n",
       "      <th>weekly_icu_admissions_per_million</th>\n",
       "      <th>weekly_hosp_admissions</th>\n",
       "      <th>excess_mortality_cumulative_per_million</th>\n",
       "    </tr>\n",
       "  </thead>\n",
       "  <tbody>\n",
       "    <tr>\n",
       "      <th>new_cases</th>\n",
       "      <td>1.000000</td>\n",
       "      <td>0.010539</td>\n",
       "      <td>0.042302</td>\n",
       "      <td>0.016158</td>\n",
       "      <td>0.009457</td>\n",
       "      <td>0.012779</td>\n",
       "      <td>0.069504</td>\n",
       "      <td>NaN</td>\n",
       "    </tr>\n",
       "    <tr>\n",
       "      <th>total_cases_per_million</th>\n",
       "      <td>0.010539</td>\n",
       "      <td>1.000000</td>\n",
       "      <td>0.020689</td>\n",
       "      <td>0.024114</td>\n",
       "      <td>0.072805</td>\n",
       "      <td>0.040145</td>\n",
       "      <td>0.038958</td>\n",
       "      <td>NaN</td>\n",
       "    </tr>\n",
       "    <tr>\n",
       "      <th>new_deaths_per_million</th>\n",
       "      <td>0.042302</td>\n",
       "      <td>0.020689</td>\n",
       "      <td>1.000000</td>\n",
       "      <td>0.186329</td>\n",
       "      <td>0.195378</td>\n",
       "      <td>0.180725</td>\n",
       "      <td>0.054014</td>\n",
       "      <td>NaN</td>\n",
       "    </tr>\n",
       "    <tr>\n",
       "      <th>icu_patients_per_million</th>\n",
       "      <td>0.016158</td>\n",
       "      <td>0.024114</td>\n",
       "      <td>0.186329</td>\n",
       "      <td>1.000000</td>\n",
       "      <td>0.599636</td>\n",
       "      <td>0.587836</td>\n",
       "      <td>0.344644</td>\n",
       "      <td>NaN</td>\n",
       "    </tr>\n",
       "    <tr>\n",
       "      <th>hosp_patients_per_million</th>\n",
       "      <td>0.009457</td>\n",
       "      <td>0.072805</td>\n",
       "      <td>0.195378</td>\n",
       "      <td>0.599636</td>\n",
       "      <td>1.000000</td>\n",
       "      <td>0.282884</td>\n",
       "      <td>0.261762</td>\n",
       "      <td>NaN</td>\n",
       "    </tr>\n",
       "    <tr>\n",
       "      <th>weekly_icu_admissions_per_million</th>\n",
       "      <td>0.012779</td>\n",
       "      <td>0.040145</td>\n",
       "      <td>0.180725</td>\n",
       "      <td>0.587836</td>\n",
       "      <td>0.282884</td>\n",
       "      <td>1.000000</td>\n",
       "      <td>0.158597</td>\n",
       "      <td>NaN</td>\n",
       "    </tr>\n",
       "    <tr>\n",
       "      <th>weekly_hosp_admissions</th>\n",
       "      <td>0.069504</td>\n",
       "      <td>0.038958</td>\n",
       "      <td>0.054014</td>\n",
       "      <td>0.344644</td>\n",
       "      <td>0.261762</td>\n",
       "      <td>0.158597</td>\n",
       "      <td>1.000000</td>\n",
       "      <td>NaN</td>\n",
       "    </tr>\n",
       "    <tr>\n",
       "      <th>excess_mortality_cumulative_per_million</th>\n",
       "      <td>NaN</td>\n",
       "      <td>NaN</td>\n",
       "      <td>NaN</td>\n",
       "      <td>NaN</td>\n",
       "      <td>NaN</td>\n",
       "      <td>NaN</td>\n",
       "      <td>NaN</td>\n",
       "      <td>NaN</td>\n",
       "    </tr>\n",
       "  </tbody>\n",
       "</table>\n",
       "</div>"
      ],
      "text/plain": [
       "                                         new_cases  total_cases_per_million  \\\n",
       "new_cases                                 1.000000                 0.010539   \n",
       "total_cases_per_million                   0.010539                 1.000000   \n",
       "new_deaths_per_million                    0.042302                 0.020689   \n",
       "icu_patients_per_million                  0.016158                 0.024114   \n",
       "hosp_patients_per_million                 0.009457                 0.072805   \n",
       "weekly_icu_admissions_per_million         0.012779                 0.040145   \n",
       "weekly_hosp_admissions                    0.069504                 0.038958   \n",
       "excess_mortality_cumulative_per_million        NaN                      NaN   \n",
       "\n",
       "                                         new_deaths_per_million  \\\n",
       "new_cases                                              0.042302   \n",
       "total_cases_per_million                                0.020689   \n",
       "new_deaths_per_million                                 1.000000   \n",
       "icu_patients_per_million                               0.186329   \n",
       "hosp_patients_per_million                              0.195378   \n",
       "weekly_icu_admissions_per_million                      0.180725   \n",
       "weekly_hosp_admissions                                 0.054014   \n",
       "excess_mortality_cumulative_per_million                     NaN   \n",
       "\n",
       "                                         icu_patients_per_million  \\\n",
       "new_cases                                                0.016158   \n",
       "total_cases_per_million                                  0.024114   \n",
       "new_deaths_per_million                                   0.186329   \n",
       "icu_patients_per_million                                 1.000000   \n",
       "hosp_patients_per_million                                0.599636   \n",
       "weekly_icu_admissions_per_million                        0.587836   \n",
       "weekly_hosp_admissions                                   0.344644   \n",
       "excess_mortality_cumulative_per_million                       NaN   \n",
       "\n",
       "                                         hosp_patients_per_million  \\\n",
       "new_cases                                                 0.009457   \n",
       "total_cases_per_million                                   0.072805   \n",
       "new_deaths_per_million                                    0.195378   \n",
       "icu_patients_per_million                                  0.599636   \n",
       "hosp_patients_per_million                                 1.000000   \n",
       "weekly_icu_admissions_per_million                         0.282884   \n",
       "weekly_hosp_admissions                                    0.261762   \n",
       "excess_mortality_cumulative_per_million                        NaN   \n",
       "\n",
       "                                         weekly_icu_admissions_per_million  \\\n",
       "new_cases                                                         0.012779   \n",
       "total_cases_per_million                                           0.040145   \n",
       "new_deaths_per_million                                            0.180725   \n",
       "icu_patients_per_million                                          0.587836   \n",
       "hosp_patients_per_million                                         0.282884   \n",
       "weekly_icu_admissions_per_million                                 1.000000   \n",
       "weekly_hosp_admissions                                            0.158597   \n",
       "excess_mortality_cumulative_per_million                                NaN   \n",
       "\n",
       "                                         weekly_hosp_admissions  \\\n",
       "new_cases                                              0.069504   \n",
       "total_cases_per_million                                0.038958   \n",
       "new_deaths_per_million                                 0.054014   \n",
       "icu_patients_per_million                               0.344644   \n",
       "hosp_patients_per_million                              0.261762   \n",
       "weekly_icu_admissions_per_million                      0.158597   \n",
       "weekly_hosp_admissions                                 1.000000   \n",
       "excess_mortality_cumulative_per_million                     NaN   \n",
       "\n",
       "                                         excess_mortality_cumulative_per_million  \n",
       "new_cases                                                                    NaN  \n",
       "total_cases_per_million                                                      NaN  \n",
       "new_deaths_per_million                                                       NaN  \n",
       "icu_patients_per_million                                                     NaN  \n",
       "hosp_patients_per_million                                                    NaN  \n",
       "weekly_icu_admissions_per_million                                            NaN  \n",
       "weekly_hosp_admissions                                                       NaN  \n",
       "excess_mortality_cumulative_per_million                                      NaN  "
      ]
     },
     "execution_count": 26,
     "metadata": {},
     "output_type": "execute_result"
    }
   ],
   "source": [
    "corr1"
   ]
  },
  {
   "cell_type": "code",
   "execution_count": 27,
   "id": "4060d74b",
   "metadata": {},
   "outputs": [
    {
     "data": {
      "text/plain": [
       "Text(0.5, 1.0, 'Correlation Matrix of Covid19')"
      ]
     },
     "execution_count": 27,
     "metadata": {},
     "output_type": "execute_result"
    },
    {
     "data": {
      "image/png": "[encoded data removed]",
      "text/plain": [
       "<Figure size 640x480 with 2 Axes>"
      ]
     },
     "metadata": {},
     "output_type": "display_data"
    }
   ],
   "source": [
    "sns.heatmap(corr1, annot=True, cmap=\"coolwarm\")\n",
    "plt.title(\"Correlation Matrix of Covid19\")"
   ]
  },
  {
   "cell_type": "code",
   "execution_count": 28,
   "id": "3552da0d",
   "metadata": {},
   "outputs": [
    {
     "data": {
      "text/plain": [
       "8401962.0"
      ]
     },
     "execution_count": 28,
     "metadata": {},
     "output_type": "execute_result"
    }
   ],
   "source": [
    "df.new_cases.max()"
   ]
  },
  {
   "cell_type": "code",
   "execution_count": 41,
   "id": "b0df74c2",
   "metadata": {},
   "outputs": [],
   "source": [
    "table2= df.location.unique()"
   ]
  },
  {
   "cell_type": "code",
   "execution_count": 45,
   "id": "7ed43594",
   "metadata": {},
   "outputs": [],
   "source": [
    "unique_loc_df = pd.DataFrame({'Unique_loc': table2})"
   ]
  },
  {
   "cell_type": "code",
   "execution_count": 46,
   "id": "ee96caed",
   "metadata": {},
   "outputs": [
    {
     "data": {
      "text/html": [
       "<div>\n",
       "<style scoped>\n",
       "    .dataframe tbody tr th:only-of-type {\n",
       "        vertical-align: middle;\n",
       "    }\n",
       "\n",
       "    .dataframe tbody tr th {\n",
       "        vertical-align: top;\n",
       "    }\n",
       "\n",
       "    .dataframe thead th {\n",
       "        text-align: right;\n",
       "    }\n",
       "</style>\n",
       "<table border=\"1\" class=\"dataframe\">\n",
       "  <thead>\n",
       "    <tr style=\"text-align: right;\">\n",
       "      <th></th>\n",
       "      <th>Unique_loc</th>\n",
       "    </tr>\n",
       "  </thead>\n",
       "  <tbody>\n",
       "    <tr>\n",
       "      <th>0</th>\n",
       "      <td>Afghanistan</td>\n",
       "    </tr>\n",
       "    <tr>\n",
       "      <th>1</th>\n",
       "      <td>Africa</td>\n",
       "    </tr>\n",
       "    <tr>\n",
       "      <th>2</th>\n",
       "      <td>Albania</td>\n",
       "    </tr>\n",
       "    <tr>\n",
       "      <th>3</th>\n",
       "      <td>Algeria</td>\n",
       "    </tr>\n",
       "    <tr>\n",
       "      <th>4</th>\n",
       "      <td>American Samoa</td>\n",
       "    </tr>\n",
       "    <tr>\n",
       "      <th>...</th>\n",
       "      <td>...</td>\n",
       "    </tr>\n",
       "    <tr>\n",
       "      <th>250</th>\n",
       "      <td>Western Sahara</td>\n",
       "    </tr>\n",
       "    <tr>\n",
       "      <th>251</th>\n",
       "      <td>World</td>\n",
       "    </tr>\n",
       "    <tr>\n",
       "      <th>252</th>\n",
       "      <td>Yemen</td>\n",
       "    </tr>\n",
       "    <tr>\n",
       "      <th>253</th>\n",
       "      <td>Zambia</td>\n",
       "    </tr>\n",
       "    <tr>\n",
       "      <th>254</th>\n",
       "      <td>Zimbabwe</td>\n",
       "    </tr>\n",
       "  </tbody>\n",
       "</table>\n",
       "<p>255 rows × 1 columns</p>\n",
       "</div>"
      ],
      "text/plain": [
       "         Unique_loc\n",
       "0       Afghanistan\n",
       "1            Africa\n",
       "2           Albania\n",
       "3           Algeria\n",
       "4    American Samoa\n",
       "..              ...\n",
       "250  Western Sahara\n",
       "251           World\n",
       "252           Yemen\n",
       "253          Zambia\n",
       "254        Zimbabwe\n",
       "\n",
       "[255 rows x 1 columns]"
      ]
     },
     "execution_count": 46,
     "metadata": {},
     "output_type": "execute_result"
    }
   ],
   "source": [
    "unique_loc_df"
   ]
  },
  {
   "cell_type": "code",
   "execution_count": 47,
   "id": "a9ef2f94",
   "metadata": {},
   "outputs": [],
   "source": [
    "unique_loc_df['toatl_Deaths'] = df['total_deaths']"
   ]
  },
  {
   "cell_type": "code",
   "execution_count": 48,
   "id": "cfb730b1",
   "metadata": {},
   "outputs": [
    {
     "data": {
      "text/html": [
       "<div>\n",
       "<style scoped>\n",
       "    .dataframe tbody tr th:only-of-type {\n",
       "        vertical-align: middle;\n",
       "    }\n",
       "\n",
       "    .dataframe tbody tr th {\n",
       "        vertical-align: top;\n",
       "    }\n",
       "\n",
       "    .dataframe thead th {\n",
       "        text-align: right;\n",
       "    }\n",
       "</style>\n",
       "<table border=\"1\" class=\"dataframe\">\n",
       "  <thead>\n",
       "    <tr style=\"text-align: right;\">\n",
       "      <th></th>\n",
       "      <th>Unique_loc</th>\n",
       "      <th>toatl_Deaths</th>\n",
       "    </tr>\n",
       "  </thead>\n",
       "  <tbody>\n",
       "    <tr>\n",
       "      <th>0</th>\n",
       "      <td>Afghanistan</td>\n",
       "      <td>NaN</td>\n",
       "    </tr>\n",
       "    <tr>\n",
       "      <th>1</th>\n",
       "      <td>Africa</td>\n",
       "      <td>NaN</td>\n",
       "    </tr>\n",
       "    <tr>\n",
       "      <th>2</th>\n",
       "      <td>Albania</td>\n",
       "      <td>NaN</td>\n",
       "    </tr>\n",
       "    <tr>\n",
       "      <th>3</th>\n",
       "      <td>Algeria</td>\n",
       "      <td>NaN</td>\n",
       "    </tr>\n",
       "    <tr>\n",
       "      <th>4</th>\n",
       "      <td>American Samoa</td>\n",
       "      <td>NaN</td>\n",
       "    </tr>\n",
       "    <tr>\n",
       "      <th>...</th>\n",
       "      <td>...</td>\n",
       "      <td>...</td>\n",
       "    </tr>\n",
       "    <tr>\n",
       "      <th>250</th>\n",
       "      <td>Western Sahara</td>\n",
       "      <td>1418.0</td>\n",
       "    </tr>\n",
       "    <tr>\n",
       "      <th>251</th>\n",
       "      <td>World</td>\n",
       "      <td>1420.0</td>\n",
       "    </tr>\n",
       "    <tr>\n",
       "      <th>252</th>\n",
       "      <td>Yemen</td>\n",
       "      <td>1420.0</td>\n",
       "    </tr>\n",
       "    <tr>\n",
       "      <th>253</th>\n",
       "      <td>Zambia</td>\n",
       "      <td>1420.0</td>\n",
       "    </tr>\n",
       "    <tr>\n",
       "      <th>254</th>\n",
       "      <td>Zimbabwe</td>\n",
       "      <td>1420.0</td>\n",
       "    </tr>\n",
       "  </tbody>\n",
       "</table>\n",
       "<p>255 rows × 2 columns</p>\n",
       "</div>"
      ],
      "text/plain": [
       "         Unique_loc  toatl_Deaths\n",
       "0       Afghanistan           NaN\n",
       "1            Africa           NaN\n",
       "2           Albania           NaN\n",
       "3           Algeria           NaN\n",
       "4    American Samoa           NaN\n",
       "..              ...           ...\n",
       "250  Western Sahara        1418.0\n",
       "251           World        1420.0\n",
       "252           Yemen        1420.0\n",
       "253          Zambia        1420.0\n",
       "254        Zimbabwe        1420.0\n",
       "\n",
       "[255 rows x 2 columns]"
      ]
     },
     "execution_count": 48,
     "metadata": {},
     "output_type": "execute_result"
    }
   ],
   "source": [
    "unique_loc_df"
   ]
  },
  {
   "cell_type": "code",
   "execution_count": 50,
   "id": "7bbb032d",
   "metadata": {},
   "outputs": [],
   "source": [
    "most_50 = unique_loc_df['toatl_Deaths'].nlargest(50)"
   ]
  },
  {
   "cell_type": "code",
   "execution_count": 55,
   "id": "0efb2573",
   "metadata": {},
   "outputs": [],
   "source": [
    "unique_loc_df=unique_loc_df.drop(252)"
   ]
  },
  {
   "cell_type": "code",
   "execution_count": 56,
   "id": "658c190f",
   "metadata": {},
   "outputs": [],
   "source": [
    "most_death = unique_loc_df.loc[unique_loc_df['toatl_Deaths'].isin(most_50), 'Unique_loc']"
   ]
  },
  {
   "cell_type": "code",
   "execution_count": 59,
   "id": "bba09345",
   "metadata": {},
   "outputs": [],
   "source": [
    "most_5 = unique_loc_df['toatl_Deaths'].nlargest(5)"
   ]
  },
  {
   "cell_type": "code",
   "execution_count": 60,
   "id": "b135e52f",
   "metadata": {},
   "outputs": [
    {
     "data": {
      "text/plain": [
       "251    1420.0\n",
       "253    1420.0\n",
       "254    1420.0\n",
       "250    1418.0\n",
       "249    1415.0\n",
       "Name: toatl_Deaths, dtype: float64"
      ]
     },
     "execution_count": 60,
     "metadata": {},
     "output_type": "execute_result"
    }
   ],
   "source": [
    "most_5"
   ]
  },
  {
   "cell_type": "code",
   "execution_count": 66,
   "id": "8489ca78",
   "metadata": {},
   "outputs": [],
   "source": [
    "most_death_recorded_locations = unique_loc_df.loc[unique_loc_df['toatl_Deaths'].isin(most_5), 'Unique_loc']"
   ]
  },
  {
   "cell_type": "code",
   "execution_count": 62,
   "id": "1c8f6f1b",
   "metadata": {},
   "outputs": [
    {
     "data": {
      "text/plain": [
       "249    Wallis and Futuna\n",
       "250       Western Sahara\n",
       "251                World\n",
       "253               Zambia\n",
       "254             Zimbabwe\n",
       "Name: Unique_loc, dtype: object"
      ]
     },
     "execution_count": 62,
     "metadata": {},
     "output_type": "execute_result"
    }
   ],
   "source": [
    "most_death_recorded_locations "
   ]
  },
  {
   "cell_type": "code",
   "execution_count": 64,
   "id": "83a25276",
   "metadata": {},
   "outputs": [],
   "source": [
    "most_death = unique_loc_df.loc[unique_loc_df['toatl_Deaths'].isin(most_5), 'Unique_loc']"
   ]
  },
  {
   "cell_type": "code",
   "execution_count": 71,
   "id": "a194b8b5",
   "metadata": {},
   "outputs": [
    {
     "data": {
      "image/png": "[encoded data removed]",
      "text/plain": [
       "<Figure size 640x480 with 1 Axes>"
      ]
     },
     "metadata": {},
     "output_type": "display_data"
    }
   ],
   "source": [
    "labels=unique_loc_df.loc[unique_loc_df['toatl_Deaths'].isin(most_50), 'Unique_loc']\n",
    "sizes=unique_loc_df['toatl_Deaths'].nlargest(5)\n",
    "plt.pie(sizes, labels=labels)\n",
    "plt.title('Most_5 location with High Death rates')\n",
    "plt.show()"
   ]
  },
  {
   "cell_type": "code",
   "execution_count": 79,
   "id": "fd5276a8",
   "metadata": {},
   "outputs": [
    {
     "data": {
      "text/plain": [
       "Text(0, 0.5, 'Death count')"
      ]
     },
     "execution_count": 79,
     "metadata": {},
     "output_type": "execute_result"
    },
    {
     "data": {
      "image/png": "[encoded data removed]",
      "text/plain": [
       "<Figure size 640x480 with 1 Axes>"
      ]
     },
     "metadata": {},
     "output_type": "display_data"
    }
   ],
   "source": [
    "sns.countplot(x=unique_loc_df['toatl_Deaths'].nlargest(5),data=unique_loc_df, palette= 'rocket') \n",
    "plt.ylabel('Death count')"
   ]
  },
  {
   "cell_type": "code",
   "execution_count": 81,
   "id": "e165c33c",
   "metadata": {},
   "outputs": [
    {
     "data": {
      "text/plain": [
       "<Axes: xlabel='Unique_loc', ylabel='toatl_Deaths'>"
      ]
     },
     "execution_count": 81,
     "metadata": {},
     "output_type": "execute_result"
    },
    {
     "data": {
      "image/png": "[encoded data removed]",
      "text/plain": [
       "<Figure size 640x480 with 1 Axes>"
      ]
     },
     "metadata": {},
     "output_type": "display_data"
    }
   ],
   "source": [
    "sns.boxplot(x=unique_loc_df.loc[unique_loc_df['toatl_Deaths'].isin(most_50), 'Unique_loc'],y=unique_loc_df['toatl_Deaths'].nlargest(5),data=df)"
   ]
  },
  {
   "cell_type": "code",
   "execution_count": null,
   "id": "3b3d53c5",
   "metadata": {},
   "outputs": [],
   "source": []
  },
  {
   "cell_type": "markdown",
   "id": "48e54f88",
   "metadata": {},
   "source": [
    "## **Conclusion\n",
    "\n",
    "#### Data set anaysis carried out by different stage as you can see such data accessing , data cleaning  and their vishualizationsvia different plots.each vishualization thoroughly examines different value relations . It showcase valueble insights from each vishualizations,as you can see the pie plot showcase most death recoreded locations. and alos we found Sweden was the most  affected location as per their death counts.\n"
   ]
  },
  {
   "cell_type": "code",
   "execution_count": null,
   "id": "9b17d57c",
   "metadata": {},
   "outputs": [],
   "source": []
  }
 ],
 "metadata": {
  "kernelspec": {
   "display_name": "Python 3 (ipykernel)",
   "language": "python",
   "name": "python3"
  },
  "language_info": {
   "codemirror_mode": {
    "name": "ipython",
    "version": 3
   },
   "file_extension": ".py",
   "mimetype": "text/x-python",
   "name": "python",
   "nbconvert_exporter": "python",
   "pygments_lexer": "ipython3",
   "version": "3.11.1"
  }
 },
 "nbformat": 4,
 "nbformat_minor": 5
}
